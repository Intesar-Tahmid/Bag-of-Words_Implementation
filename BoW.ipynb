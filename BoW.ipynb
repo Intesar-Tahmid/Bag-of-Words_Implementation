{
  "nbformat": 4,
  "nbformat_minor": 0,
  "metadata": {
    "colab": {
      "provenance": [],
      "authorship_tag": "ABX9TyPKBp6kYwO7dldS/kWD2f+t",
      "include_colab_link": true
    },
    "kernelspec": {
      "name": "python3",
      "display_name": "Python 3"
    },
    "language_info": {
      "name": "python"
    }
  },
  "cells": [
    {
      "cell_type": "markdown",
      "metadata": {
        "id": "view-in-github",
        "colab_type": "text"
      },
      "source": [
        "<a href=\"https://colab.research.google.com/github/Intesar-Tahmid/Bag-of-Words_Implementation/blob/main/BoW.ipynb\" target=\"_parent\"><img src=\"https://colab.research.google.com/assets/colab-badge.svg\" alt=\"Open In Colab\"/></a>"
      ]
    },
    {
      "cell_type": "code",
      "execution_count": 21,
      "metadata": {
        "id": "hUn2qDS3eAvT"
      },
      "outputs": [],
      "source": [
        "with open(\"test.txt\", \"r\") as file: #Reading the input text file\n",
        "  documents = [line.strip() for line in file if line.strip()] #.strip() removes leeading and trailing whitespaces"
      ]
    },
    {
      "cell_type": "code",
      "source": [
        "print(documents)"
      ],
      "metadata": {
        "colab": {
          "base_uri": "https://localhost:8080/"
        },
        "id": "moTRHRZjivii",
        "outputId": "6cbb0d17-0ae4-4277-9268-008d896fa174"
      },
      "execution_count": 22,
      "outputs": [
        {
          "output_type": "stream",
          "name": "stdout",
          "text": [
            "['The sun rises early in the summer. She drinks coffee every morning. My keys are on the kitchen counter. The bus arrives at 8:15 AM. He forgot to buy milk at the store. The baby is sleeping peacefully. I need to wash my car this weekend. Her phone battery died unexpectedly. They ordered pizza for dinner. The laundry basket is full. The leaves turned orange in autumn. A gentle breeze blew through the trees. It’s raining heavily outside. The stars were bright last night. The river flows into the ocean. Snow covered the mountains. Birds chirped at dawn. The desert can be extremely hot. A rainbow appeared after the storm. The waves crashed against the rocks. The meeting starts in ten minutes. She submitted her report on time. The professor explained the theory clearly. His laptop ran out of battery during the presentation. The office is closed on weekends. They celebrated the project’s success. I have a job interview next week. The training session was very helpful. The deadline was extended by two days. The team brainstormed new ideas. The cat curled up on the sofa. Dogs love playing fetch in the park. The veterinarian examined the rabbit carefully. A squirrel darted across the yard. The zoo has a new panda exhibit. His parrot mimics funny phrases. The goldfish swam in circles. She adopted a rescue puppy. The horse galloped across the field. Bees buzzed around the flowers. The novel kept me awake all night. Her painting won first prize. He plays the guitar beautifully. The concert tickets sold out quickly. They filmed the movie in Italy. The museum displayed ancient artifacts. She writes poetry in her free time. The play received standing ovations. The DJ played upbeat music. The recipe requires fresh herbs. He grilled burgers for the party. The bakery smells like cinnamon. She baked a chocolate cake. The soup was too salty. They shared a bottle of wine. I prefer tea over coffee. The salad had a tangy dressing. Fresh strawberries are delicious. The kitchen was spotless after cooking. The road trip took eight hours. They booked a hotel near the beach. Her passport expired last month. The airport was crowded. We hiked to the waterfall. The tour guide shared interesting facts. The suitcase weighed too much. They missed their connecting flight. The cruise ship had five restaurants. The tent was easy to set up. Laughter is the best medicine. Kindness can change someone’s day. He apologized sincerely. The argument was resolved peacefully. She donated to a charity. Volunteering brings joy. They supported each other during hard times. Forgiveness takes courage. A smile can break the ice. Honesty builds trust. The community organized a cleanup. She offered her seat to an elderly man. The doctor explained the diagnosis. He recovered quickly after surgery. The hospital was understaffed. She takes vitamins daily. The gym offers yoga classes. Running helps clear his mind. They drank plenty of water. The dentist found no cavities. A healthy diet improves energy. She meditates for ten minutes every morning. The old bridge was rebuilt. The scientist discovered a new species. The robot performed complex tasks. The spaceship launched successfully. The internet connection was unstable. The software update fixed the bugs. He coded the app from scratch. The solar panels generated enough power. The engineer designed a sustainable solution. The future holds endless possibilities.']\n"
          ]
        }
      ]
    },
    {
      "cell_type": "code",
      "source": [
        "tokenized_doc = [doc.lower().split() for doc in documents]\n",
        "#split() splits the sentences according to countering spaces. It splits the sentence into list of words(tokens)"
      ],
      "metadata": {
        "id": "87mlo0pCi035"
      },
      "execution_count": 23,
      "outputs": []
    },
    {
      "cell_type": "code",
      "source": [
        "print(tokenized_doc)"
      ],
      "metadata": {
        "colab": {
          "base_uri": "https://localhost:8080/"
        },
        "id": "fGvfB46VjCoZ",
        "outputId": "2e641225-27f1-4ca8-e10d-20c00ab00a0d"
      },
      "execution_count": 24,
      "outputs": [
        {
          "output_type": "stream",
          "name": "stdout",
          "text": [
            "[['the', 'sun', 'rises', 'early', 'in', 'the', 'summer.', 'she', 'drinks', 'coffee', 'every', 'morning.', 'my', 'keys', 'are', 'on', 'the', 'kitchen', 'counter.', 'the', 'bus', 'arrives', 'at', '8:15', 'am.', 'he', 'forgot', 'to', 'buy', 'milk', 'at', 'the', 'store.', 'the', 'baby', 'is', 'sleeping', 'peacefully.', 'i', 'need', 'to', 'wash', 'my', 'car', 'this', 'weekend.', 'her', 'phone', 'battery', 'died', 'unexpectedly.', 'they', 'ordered', 'pizza', 'for', 'dinner.', 'the', 'laundry', 'basket', 'is', 'full.', 'the', 'leaves', 'turned', 'orange', 'in', 'autumn.', 'a', 'gentle', 'breeze', 'blew', 'through', 'the', 'trees.', 'it’s', 'raining', 'heavily', 'outside.', 'the', 'stars', 'were', 'bright', 'last', 'night.', 'the', 'river', 'flows', 'into', 'the', 'ocean.', 'snow', 'covered', 'the', 'mountains.', 'birds', 'chirped', 'at', 'dawn.', 'the', 'desert', 'can', 'be', 'extremely', 'hot.', 'a', 'rainbow', 'appeared', 'after', 'the', 'storm.', 'the', 'waves', 'crashed', 'against', 'the', 'rocks.', 'the', 'meeting', 'starts', 'in', 'ten', 'minutes.', 'she', 'submitted', 'her', 'report', 'on', 'time.', 'the', 'professor', 'explained', 'the', 'theory', 'clearly.', 'his', 'laptop', 'ran', 'out', 'of', 'battery', 'during', 'the', 'presentation.', 'the', 'office', 'is', 'closed', 'on', 'weekends.', 'they', 'celebrated', 'the', 'project’s', 'success.', 'i', 'have', 'a', 'job', 'interview', 'next', 'week.', 'the', 'training', 'session', 'was', 'very', 'helpful.', 'the', 'deadline', 'was', 'extended', 'by', 'two', 'days.', 'the', 'team', 'brainstormed', 'new', 'ideas.', 'the', 'cat', 'curled', 'up', 'on', 'the', 'sofa.', 'dogs', 'love', 'playing', 'fetch', 'in', 'the', 'park.', 'the', 'veterinarian', 'examined', 'the', 'rabbit', 'carefully.', 'a', 'squirrel', 'darted', 'across', 'the', 'yard.', 'the', 'zoo', 'has', 'a', 'new', 'panda', 'exhibit.', 'his', 'parrot', 'mimics', 'funny', 'phrases.', 'the', 'goldfish', 'swam', 'in', 'circles.', 'she', 'adopted', 'a', 'rescue', 'puppy.', 'the', 'horse', 'galloped', 'across', 'the', 'field.', 'bees', 'buzzed', 'around', 'the', 'flowers.', 'the', 'novel', 'kept', 'me', 'awake', 'all', 'night.', 'her', 'painting', 'won', 'first', 'prize.', 'he', 'plays', 'the', 'guitar', 'beautifully.', 'the', 'concert', 'tickets', 'sold', 'out', 'quickly.', 'they', 'filmed', 'the', 'movie', 'in', 'italy.', 'the', 'museum', 'displayed', 'ancient', 'artifacts.', 'she', 'writes', 'poetry', 'in', 'her', 'free', 'time.', 'the', 'play', 'received', 'standing', 'ovations.', 'the', 'dj', 'played', 'upbeat', 'music.', 'the', 'recipe', 'requires', 'fresh', 'herbs.', 'he', 'grilled', 'burgers', 'for', 'the', 'party.', 'the', 'bakery', 'smells', 'like', 'cinnamon.', 'she', 'baked', 'a', 'chocolate', 'cake.', 'the', 'soup', 'was', 'too', 'salty.', 'they', 'shared', 'a', 'bottle', 'of', 'wine.', 'i', 'prefer', 'tea', 'over', 'coffee.', 'the', 'salad', 'had', 'a', 'tangy', 'dressing.', 'fresh', 'strawberries', 'are', 'delicious.', 'the', 'kitchen', 'was', 'spotless', 'after', 'cooking.', 'the', 'road', 'trip', 'took', 'eight', 'hours.', 'they', 'booked', 'a', 'hotel', 'near', 'the', 'beach.', 'her', 'passport', 'expired', 'last', 'month.', 'the', 'airport', 'was', 'crowded.', 'we', 'hiked', 'to', 'the', 'waterfall.', 'the', 'tour', 'guide', 'shared', 'interesting', 'facts.', 'the', 'suitcase', 'weighed', 'too', 'much.', 'they', 'missed', 'their', 'connecting', 'flight.', 'the', 'cruise', 'ship', 'had', 'five', 'restaurants.', 'the', 'tent', 'was', 'easy', 'to', 'set', 'up.', 'laughter', 'is', 'the', 'best', 'medicine.', 'kindness', 'can', 'change', 'someone’s', 'day.', 'he', 'apologized', 'sincerely.', 'the', 'argument', 'was', 'resolved', 'peacefully.', 'she', 'donated', 'to', 'a', 'charity.', 'volunteering', 'brings', 'joy.', 'they', 'supported', 'each', 'other', 'during', 'hard', 'times.', 'forgiveness', 'takes', 'courage.', 'a', 'smile', 'can', 'break', 'the', 'ice.', 'honesty', 'builds', 'trust.', 'the', 'community', 'organized', 'a', 'cleanup.', 'she', 'offered', 'her', 'seat', 'to', 'an', 'elderly', 'man.', 'the', 'doctor', 'explained', 'the', 'diagnosis.', 'he', 'recovered', 'quickly', 'after', 'surgery.', 'the', 'hospital', 'was', 'understaffed.', 'she', 'takes', 'vitamins', 'daily.', 'the', 'gym', 'offers', 'yoga', 'classes.', 'running', 'helps', 'clear', 'his', 'mind.', 'they', 'drank', 'plenty', 'of', 'water.', 'the', 'dentist', 'found', 'no', 'cavities.', 'a', 'healthy', 'diet', 'improves', 'energy.', 'she', 'meditates', 'for', 'ten', 'minutes', 'every', 'morning.', 'the', 'old', 'bridge', 'was', 'rebuilt.', 'the', 'scientist', 'discovered', 'a', 'new', 'species.', 'the', 'robot', 'performed', 'complex', 'tasks.', 'the', 'spaceship', 'launched', 'successfully.', 'the', 'internet', 'connection', 'was', 'unstable.', 'the', 'software', 'update', 'fixed', 'the', 'bugs.', 'he', 'coded', 'the', 'app', 'from', 'scratch.', 'the', 'solar', 'panels', 'generated', 'enough', 'power.', 'the', 'engineer', 'designed', 'a', 'sustainable', 'solution.', 'the', 'future', 'holds', 'endless', 'possibilities.']]\n"
          ]
        }
      ]
    },
    {
      "cell_type": "code",
      "source": [
        "vocabulary = set() #set is same set as c++\n",
        "\n",
        "for doc in tokenized_doc:\n",
        "  vocabulary.update(doc) #adds new elements\n",
        "\n",
        "vocabulary = sorted(vocabulary)"
      ],
      "metadata": {
        "id": "XdShj2Tajbth"
      },
      "execution_count": 25,
      "outputs": []
    },
    {
      "cell_type": "code",
      "source": [
        "print(vocabulary)"
      ],
      "metadata": {
        "colab": {
          "base_uri": "https://localhost:8080/"
        },
        "id": "iVQ_QW5Mv9-O",
        "outputId": "ff6d4b53-189b-4b10-8edc-8470381fb07d"
      },
      "execution_count": 26,
      "outputs": [
        {
          "output_type": "stream",
          "name": "stdout",
          "text": [
            "['8:15', 'a', 'across', 'adopted', 'after', 'against', 'airport', 'all', 'am.', 'an', 'ancient', 'apologized', 'app', 'appeared', 'are', 'argument', 'around', 'arrives', 'artifacts.', 'at', 'autumn.', 'awake', 'baby', 'baked', 'bakery', 'basket', 'battery', 'be', 'beach.', 'beautifully.', 'bees', 'best', 'birds', 'blew', 'booked', 'bottle', 'brainstormed', 'break', 'breeze', 'bridge', 'bright', 'brings', 'bugs.', 'builds', 'burgers', 'bus', 'buy', 'buzzed', 'by', 'cake.', 'can', 'car', 'carefully.', 'cat', 'cavities.', 'celebrated', 'change', 'charity.', 'chirped', 'chocolate', 'cinnamon.', 'circles.', 'classes.', 'cleanup.', 'clear', 'clearly.', 'closed', 'coded', 'coffee', 'coffee.', 'community', 'complex', 'concert', 'connecting', 'connection', 'cooking.', 'counter.', 'courage.', 'covered', 'crashed', 'crowded.', 'cruise', 'curled', 'daily.', 'darted', 'dawn.', 'day.', 'days.', 'deadline', 'delicious.', 'dentist', 'desert', 'designed', 'diagnosis.', 'died', 'diet', 'dinner.', 'discovered', 'displayed', 'dj', 'doctor', 'dogs', 'donated', 'drank', 'dressing.', 'drinks', 'during', 'each', 'early', 'easy', 'eight', 'elderly', 'endless', 'energy.', 'engineer', 'enough', 'every', 'examined', 'exhibit.', 'expired', 'explained', 'extended', 'extremely', 'facts.', 'fetch', 'field.', 'filmed', 'first', 'five', 'fixed', 'flight.', 'flowers.', 'flows', 'for', 'forgiveness', 'forgot', 'found', 'free', 'fresh', 'from', 'full.', 'funny', 'future', 'galloped', 'generated', 'gentle', 'goldfish', 'grilled', 'guide', 'guitar', 'gym', 'had', 'hard', 'has', 'have', 'he', 'healthy', 'heavily', 'helpful.', 'helps', 'her', 'herbs.', 'hiked', 'his', 'holds', 'honesty', 'horse', 'hospital', 'hot.', 'hotel', 'hours.', 'i', 'ice.', 'ideas.', 'improves', 'in', 'interesting', 'internet', 'interview', 'into', 'is', 'italy.', 'it’s', 'job', 'joy.', 'kept', 'keys', 'kindness', 'kitchen', 'laptop', 'last', 'laughter', 'launched', 'laundry', 'leaves', 'like', 'love', 'man.', 'me', 'medicine.', 'meditates', 'meeting', 'milk', 'mimics', 'mind.', 'minutes', 'minutes.', 'missed', 'month.', 'morning.', 'mountains.', 'movie', 'much.', 'museum', 'music.', 'my', 'near', 'need', 'new', 'next', 'night.', 'no', 'novel', 'ocean.', 'of', 'offered', 'offers', 'office', 'old', 'on', 'orange', 'ordered', 'organized', 'other', 'out', 'outside.', 'ovations.', 'over', 'painting', 'panda', 'panels', 'park.', 'parrot', 'party.', 'passport', 'peacefully.', 'performed', 'phone', 'phrases.', 'pizza', 'play', 'played', 'playing', 'plays', 'plenty', 'poetry', 'possibilities.', 'power.', 'prefer', 'presentation.', 'prize.', 'professor', 'project’s', 'puppy.', 'quickly', 'quickly.', 'rabbit', 'rainbow', 'raining', 'ran', 'rebuilt.', 'received', 'recipe', 'recovered', 'report', 'requires', 'rescue', 'resolved', 'restaurants.', 'rises', 'river', 'road', 'robot', 'rocks.', 'running', 'salad', 'salty.', 'scientist', 'scratch.', 'seat', 'session', 'set', 'shared', 'she', 'ship', 'sincerely.', 'sleeping', 'smells', 'smile', 'snow', 'sofa.', 'software', 'solar', 'sold', 'solution.', 'someone’s', 'soup', 'spaceship', 'species.', 'spotless', 'squirrel', 'standing', 'stars', 'starts', 'store.', 'storm.', 'strawberries', 'submitted', 'success.', 'successfully.', 'suitcase', 'summer.', 'sun', 'supported', 'surgery.', 'sustainable', 'swam', 'takes', 'tangy', 'tasks.', 'tea', 'team', 'ten', 'tent', 'the', 'their', 'theory', 'they', 'this', 'through', 'tickets', 'time.', 'times.', 'to', 'too', 'took', 'tour', 'training', 'trees.', 'trip', 'trust.', 'turned', 'two', 'understaffed.', 'unexpectedly.', 'unstable.', 'up', 'up.', 'upbeat', 'update', 'very', 'veterinarian', 'vitamins', 'volunteering', 'was', 'wash', 'water.', 'waterfall.', 'waves', 'we', 'week.', 'weekend.', 'weekends.', 'weighed', 'were', 'wine.', 'won', 'writes', 'yard.', 'yoga', 'zoo']\n"
          ]
        }
      ]
    },
    {
      "cell_type": "code",
      "source": [
        "print(len(vocabulary))"
      ],
      "metadata": {
        "colab": {
          "base_uri": "https://localhost:8080/"
        },
        "id": "hQwstPF4wD3C",
        "outputId": "ce43cfc0-3f1b-46e9-f642-f45b1085ab3e"
      },
      "execution_count": 27,
      "outputs": [
        {
          "output_type": "stream",
          "name": "stdout",
          "text": [
            "381\n"
          ]
        }
      ]
    },
    {
      "cell_type": "code",
      "source": [
        "word_to_index = {}\n",
        "\n",
        "for index, word in enumerate(vocabulary):\n",
        "  word_to_index[word] = index #declared a dictionary, dictionary is c++ equivalent of map\n"
      ],
      "metadata": {
        "id": "muQRW7_7wcwY"
      },
      "execution_count": 28,
      "outputs": []
    },
    {
      "cell_type": "code",
      "source": [
        "print(word_to_index)"
      ],
      "metadata": {
        "colab": {
          "base_uri": "https://localhost:8080/"
        },
        "id": "m2LQclRcWcg_",
        "outputId": "ea5c3005-ea4e-425c-96d7-85a1122674dc"
      },
      "execution_count": 29,
      "outputs": [
        {
          "output_type": "stream",
          "name": "stdout",
          "text": [
            "{'8:15': 0, 'a': 1, 'across': 2, 'adopted': 3, 'after': 4, 'against': 5, 'airport': 6, 'all': 7, 'am.': 8, 'an': 9, 'ancient': 10, 'apologized': 11, 'app': 12, 'appeared': 13, 'are': 14, 'argument': 15, 'around': 16, 'arrives': 17, 'artifacts.': 18, 'at': 19, 'autumn.': 20, 'awake': 21, 'baby': 22, 'baked': 23, 'bakery': 24, 'basket': 25, 'battery': 26, 'be': 27, 'beach.': 28, 'beautifully.': 29, 'bees': 30, 'best': 31, 'birds': 32, 'blew': 33, 'booked': 34, 'bottle': 35, 'brainstormed': 36, 'break': 37, 'breeze': 38, 'bridge': 39, 'bright': 40, 'brings': 41, 'bugs.': 42, 'builds': 43, 'burgers': 44, 'bus': 45, 'buy': 46, 'buzzed': 47, 'by': 48, 'cake.': 49, 'can': 50, 'car': 51, 'carefully.': 52, 'cat': 53, 'cavities.': 54, 'celebrated': 55, 'change': 56, 'charity.': 57, 'chirped': 58, 'chocolate': 59, 'cinnamon.': 60, 'circles.': 61, 'classes.': 62, 'cleanup.': 63, 'clear': 64, 'clearly.': 65, 'closed': 66, 'coded': 67, 'coffee': 68, 'coffee.': 69, 'community': 70, 'complex': 71, 'concert': 72, 'connecting': 73, 'connection': 74, 'cooking.': 75, 'counter.': 76, 'courage.': 77, 'covered': 78, 'crashed': 79, 'crowded.': 80, 'cruise': 81, 'curled': 82, 'daily.': 83, 'darted': 84, 'dawn.': 85, 'day.': 86, 'days.': 87, 'deadline': 88, 'delicious.': 89, 'dentist': 90, 'desert': 91, 'designed': 92, 'diagnosis.': 93, 'died': 94, 'diet': 95, 'dinner.': 96, 'discovered': 97, 'displayed': 98, 'dj': 99, 'doctor': 100, 'dogs': 101, 'donated': 102, 'drank': 103, 'dressing.': 104, 'drinks': 105, 'during': 106, 'each': 107, 'early': 108, 'easy': 109, 'eight': 110, 'elderly': 111, 'endless': 112, 'energy.': 113, 'engineer': 114, 'enough': 115, 'every': 116, 'examined': 117, 'exhibit.': 118, 'expired': 119, 'explained': 120, 'extended': 121, 'extremely': 122, 'facts.': 123, 'fetch': 124, 'field.': 125, 'filmed': 126, 'first': 127, 'five': 128, 'fixed': 129, 'flight.': 130, 'flowers.': 131, 'flows': 132, 'for': 133, 'forgiveness': 134, 'forgot': 135, 'found': 136, 'free': 137, 'fresh': 138, 'from': 139, 'full.': 140, 'funny': 141, 'future': 142, 'galloped': 143, 'generated': 144, 'gentle': 145, 'goldfish': 146, 'grilled': 147, 'guide': 148, 'guitar': 149, 'gym': 150, 'had': 151, 'hard': 152, 'has': 153, 'have': 154, 'he': 155, 'healthy': 156, 'heavily': 157, 'helpful.': 158, 'helps': 159, 'her': 160, 'herbs.': 161, 'hiked': 162, 'his': 163, 'holds': 164, 'honesty': 165, 'horse': 166, 'hospital': 167, 'hot.': 168, 'hotel': 169, 'hours.': 170, 'i': 171, 'ice.': 172, 'ideas.': 173, 'improves': 174, 'in': 175, 'interesting': 176, 'internet': 177, 'interview': 178, 'into': 179, 'is': 180, 'italy.': 181, 'it’s': 182, 'job': 183, 'joy.': 184, 'kept': 185, 'keys': 186, 'kindness': 187, 'kitchen': 188, 'laptop': 189, 'last': 190, 'laughter': 191, 'launched': 192, 'laundry': 193, 'leaves': 194, 'like': 195, 'love': 196, 'man.': 197, 'me': 198, 'medicine.': 199, 'meditates': 200, 'meeting': 201, 'milk': 202, 'mimics': 203, 'mind.': 204, 'minutes': 205, 'minutes.': 206, 'missed': 207, 'month.': 208, 'morning.': 209, 'mountains.': 210, 'movie': 211, 'much.': 212, 'museum': 213, 'music.': 214, 'my': 215, 'near': 216, 'need': 217, 'new': 218, 'next': 219, 'night.': 220, 'no': 221, 'novel': 222, 'ocean.': 223, 'of': 224, 'offered': 225, 'offers': 226, 'office': 227, 'old': 228, 'on': 229, 'orange': 230, 'ordered': 231, 'organized': 232, 'other': 233, 'out': 234, 'outside.': 235, 'ovations.': 236, 'over': 237, 'painting': 238, 'panda': 239, 'panels': 240, 'park.': 241, 'parrot': 242, 'party.': 243, 'passport': 244, 'peacefully.': 245, 'performed': 246, 'phone': 247, 'phrases.': 248, 'pizza': 249, 'play': 250, 'played': 251, 'playing': 252, 'plays': 253, 'plenty': 254, 'poetry': 255, 'possibilities.': 256, 'power.': 257, 'prefer': 258, 'presentation.': 259, 'prize.': 260, 'professor': 261, 'project’s': 262, 'puppy.': 263, 'quickly': 264, 'quickly.': 265, 'rabbit': 266, 'rainbow': 267, 'raining': 268, 'ran': 269, 'rebuilt.': 270, 'received': 271, 'recipe': 272, 'recovered': 273, 'report': 274, 'requires': 275, 'rescue': 276, 'resolved': 277, 'restaurants.': 278, 'rises': 279, 'river': 280, 'road': 281, 'robot': 282, 'rocks.': 283, 'running': 284, 'salad': 285, 'salty.': 286, 'scientist': 287, 'scratch.': 288, 'seat': 289, 'session': 290, 'set': 291, 'shared': 292, 'she': 293, 'ship': 294, 'sincerely.': 295, 'sleeping': 296, 'smells': 297, 'smile': 298, 'snow': 299, 'sofa.': 300, 'software': 301, 'solar': 302, 'sold': 303, 'solution.': 304, 'someone’s': 305, 'soup': 306, 'spaceship': 307, 'species.': 308, 'spotless': 309, 'squirrel': 310, 'standing': 311, 'stars': 312, 'starts': 313, 'store.': 314, 'storm.': 315, 'strawberries': 316, 'submitted': 317, 'success.': 318, 'successfully.': 319, 'suitcase': 320, 'summer.': 321, 'sun': 322, 'supported': 323, 'surgery.': 324, 'sustainable': 325, 'swam': 326, 'takes': 327, 'tangy': 328, 'tasks.': 329, 'tea': 330, 'team': 331, 'ten': 332, 'tent': 333, 'the': 334, 'their': 335, 'theory': 336, 'they': 337, 'this': 338, 'through': 339, 'tickets': 340, 'time.': 341, 'times.': 342, 'to': 343, 'too': 344, 'took': 345, 'tour': 346, 'training': 347, 'trees.': 348, 'trip': 349, 'trust.': 350, 'turned': 351, 'two': 352, 'understaffed.': 353, 'unexpectedly.': 354, 'unstable.': 355, 'up': 356, 'up.': 357, 'upbeat': 358, 'update': 359, 'very': 360, 'veterinarian': 361, 'vitamins': 362, 'volunteering': 363, 'was': 364, 'wash': 365, 'water.': 366, 'waterfall.': 367, 'waves': 368, 'we': 369, 'week.': 370, 'weekend.': 371, 'weekends.': 372, 'weighed': 373, 'were': 374, 'wine.': 375, 'won': 376, 'writes': 377, 'yard.': 378, 'yoga': 379, 'zoo': 380}\n"
          ]
        }
      ]
    },
    {
      "cell_type": "code",
      "source": [
        "bow_vectors = []\n",
        "for doc in tokenized_doc:\n",
        "    vector = [0] * len(vocabulary)\n",
        "    for word in doc:\n",
        "        if word in word_to_index:\n",
        "            vector[word_to_index[word]] += 1\n",
        "    bow_vectors.append(vector)"
      ],
      "metadata": {
        "id": "ZpjWMiXOZHCQ"
      },
      "execution_count": 30,
      "outputs": []
    },
    {
      "cell_type": "code",
      "source": [
        "print(\"Vocabulary: \", vocabulary)"
      ],
      "metadata": {
        "colab": {
          "base_uri": "https://localhost:8080/"
        },
        "id": "pPgpSSJzcBSn",
        "outputId": "27b555c7-cd72-4a2c-c38b-46706bc0e8e0"
      },
      "execution_count": 31,
      "outputs": [
        {
          "output_type": "stream",
          "name": "stdout",
          "text": [
            "Vocabulary:  ['8:15', 'a', 'across', 'adopted', 'after', 'against', 'airport', 'all', 'am.', 'an', 'ancient', 'apologized', 'app', 'appeared', 'are', 'argument', 'around', 'arrives', 'artifacts.', 'at', 'autumn.', 'awake', 'baby', 'baked', 'bakery', 'basket', 'battery', 'be', 'beach.', 'beautifully.', 'bees', 'best', 'birds', 'blew', 'booked', 'bottle', 'brainstormed', 'break', 'breeze', 'bridge', 'bright', 'brings', 'bugs.', 'builds', 'burgers', 'bus', 'buy', 'buzzed', 'by', 'cake.', 'can', 'car', 'carefully.', 'cat', 'cavities.', 'celebrated', 'change', 'charity.', 'chirped', 'chocolate', 'cinnamon.', 'circles.', 'classes.', 'cleanup.', 'clear', 'clearly.', 'closed', 'coded', 'coffee', 'coffee.', 'community', 'complex', 'concert', 'connecting', 'connection', 'cooking.', 'counter.', 'courage.', 'covered', 'crashed', 'crowded.', 'cruise', 'curled', 'daily.', 'darted', 'dawn.', 'day.', 'days.', 'deadline', 'delicious.', 'dentist', 'desert', 'designed', 'diagnosis.', 'died', 'diet', 'dinner.', 'discovered', 'displayed', 'dj', 'doctor', 'dogs', 'donated', 'drank', 'dressing.', 'drinks', 'during', 'each', 'early', 'easy', 'eight', 'elderly', 'endless', 'energy.', 'engineer', 'enough', 'every', 'examined', 'exhibit.', 'expired', 'explained', 'extended', 'extremely', 'facts.', 'fetch', 'field.', 'filmed', 'first', 'five', 'fixed', 'flight.', 'flowers.', 'flows', 'for', 'forgiveness', 'forgot', 'found', 'free', 'fresh', 'from', 'full.', 'funny', 'future', 'galloped', 'generated', 'gentle', 'goldfish', 'grilled', 'guide', 'guitar', 'gym', 'had', 'hard', 'has', 'have', 'he', 'healthy', 'heavily', 'helpful.', 'helps', 'her', 'herbs.', 'hiked', 'his', 'holds', 'honesty', 'horse', 'hospital', 'hot.', 'hotel', 'hours.', 'i', 'ice.', 'ideas.', 'improves', 'in', 'interesting', 'internet', 'interview', 'into', 'is', 'italy.', 'it’s', 'job', 'joy.', 'kept', 'keys', 'kindness', 'kitchen', 'laptop', 'last', 'laughter', 'launched', 'laundry', 'leaves', 'like', 'love', 'man.', 'me', 'medicine.', 'meditates', 'meeting', 'milk', 'mimics', 'mind.', 'minutes', 'minutes.', 'missed', 'month.', 'morning.', 'mountains.', 'movie', 'much.', 'museum', 'music.', 'my', 'near', 'need', 'new', 'next', 'night.', 'no', 'novel', 'ocean.', 'of', 'offered', 'offers', 'office', 'old', 'on', 'orange', 'ordered', 'organized', 'other', 'out', 'outside.', 'ovations.', 'over', 'painting', 'panda', 'panels', 'park.', 'parrot', 'party.', 'passport', 'peacefully.', 'performed', 'phone', 'phrases.', 'pizza', 'play', 'played', 'playing', 'plays', 'plenty', 'poetry', 'possibilities.', 'power.', 'prefer', 'presentation.', 'prize.', 'professor', 'project’s', 'puppy.', 'quickly', 'quickly.', 'rabbit', 'rainbow', 'raining', 'ran', 'rebuilt.', 'received', 'recipe', 'recovered', 'report', 'requires', 'rescue', 'resolved', 'restaurants.', 'rises', 'river', 'road', 'robot', 'rocks.', 'running', 'salad', 'salty.', 'scientist', 'scratch.', 'seat', 'session', 'set', 'shared', 'she', 'ship', 'sincerely.', 'sleeping', 'smells', 'smile', 'snow', 'sofa.', 'software', 'solar', 'sold', 'solution.', 'someone’s', 'soup', 'spaceship', 'species.', 'spotless', 'squirrel', 'standing', 'stars', 'starts', 'store.', 'storm.', 'strawberries', 'submitted', 'success.', 'successfully.', 'suitcase', 'summer.', 'sun', 'supported', 'surgery.', 'sustainable', 'swam', 'takes', 'tangy', 'tasks.', 'tea', 'team', 'ten', 'tent', 'the', 'their', 'theory', 'they', 'this', 'through', 'tickets', 'time.', 'times.', 'to', 'too', 'took', 'tour', 'training', 'trees.', 'trip', 'trust.', 'turned', 'two', 'understaffed.', 'unexpectedly.', 'unstable.', 'up', 'up.', 'upbeat', 'update', 'very', 'veterinarian', 'vitamins', 'volunteering', 'was', 'wash', 'water.', 'waterfall.', 'waves', 'we', 'week.', 'weekend.', 'weekends.', 'weighed', 'were', 'wine.', 'won', 'writes', 'yard.', 'yoga', 'zoo']\n"
          ]
        }
      ]
    },
    {
      "cell_type": "code",
      "source": [
        "print(\"Vocabulary: \", vocabulary)\n",
        "for i, vector in enumerate(bow_vectors):\n",
        "  print(f\"Document {i+1}: {vector}\")"
      ],
      "metadata": {
        "colab": {
          "base_uri": "https://localhost:8080/"
        },
        "id": "hUJx0b1jfklg",
        "outputId": "7ddb6dd5-549f-4976-b6aa-135ead4e3096"
      },
      "execution_count": 32,
      "outputs": [
        {
          "output_type": "stream",
          "name": "stdout",
          "text": [
            "Vocabulary:  ['8:15', 'a', 'across', 'adopted', 'after', 'against', 'airport', 'all', 'am.', 'an', 'ancient', 'apologized', 'app', 'appeared', 'are', 'argument', 'around', 'arrives', 'artifacts.', 'at', 'autumn.', 'awake', 'baby', 'baked', 'bakery', 'basket', 'battery', 'be', 'beach.', 'beautifully.', 'bees', 'best', 'birds', 'blew', 'booked', 'bottle', 'brainstormed', 'break', 'breeze', 'bridge', 'bright', 'brings', 'bugs.', 'builds', 'burgers', 'bus', 'buy', 'buzzed', 'by', 'cake.', 'can', 'car', 'carefully.', 'cat', 'cavities.', 'celebrated', 'change', 'charity.', 'chirped', 'chocolate', 'cinnamon.', 'circles.', 'classes.', 'cleanup.', 'clear', 'clearly.', 'closed', 'coded', 'coffee', 'coffee.', 'community', 'complex', 'concert', 'connecting', 'connection', 'cooking.', 'counter.', 'courage.', 'covered', 'crashed', 'crowded.', 'cruise', 'curled', 'daily.', 'darted', 'dawn.', 'day.', 'days.', 'deadline', 'delicious.', 'dentist', 'desert', 'designed', 'diagnosis.', 'died', 'diet', 'dinner.', 'discovered', 'displayed', 'dj', 'doctor', 'dogs', 'donated', 'drank', 'dressing.', 'drinks', 'during', 'each', 'early', 'easy', 'eight', 'elderly', 'endless', 'energy.', 'engineer', 'enough', 'every', 'examined', 'exhibit.', 'expired', 'explained', 'extended', 'extremely', 'facts.', 'fetch', 'field.', 'filmed', 'first', 'five', 'fixed', 'flight.', 'flowers.', 'flows', 'for', 'forgiveness', 'forgot', 'found', 'free', 'fresh', 'from', 'full.', 'funny', 'future', 'galloped', 'generated', 'gentle', 'goldfish', 'grilled', 'guide', 'guitar', 'gym', 'had', 'hard', 'has', 'have', 'he', 'healthy', 'heavily', 'helpful.', 'helps', 'her', 'herbs.', 'hiked', 'his', 'holds', 'honesty', 'horse', 'hospital', 'hot.', 'hotel', 'hours.', 'i', 'ice.', 'ideas.', 'improves', 'in', 'interesting', 'internet', 'interview', 'into', 'is', 'italy.', 'it’s', 'job', 'joy.', 'kept', 'keys', 'kindness', 'kitchen', 'laptop', 'last', 'laughter', 'launched', 'laundry', 'leaves', 'like', 'love', 'man.', 'me', 'medicine.', 'meditates', 'meeting', 'milk', 'mimics', 'mind.', 'minutes', 'minutes.', 'missed', 'month.', 'morning.', 'mountains.', 'movie', 'much.', 'museum', 'music.', 'my', 'near', 'need', 'new', 'next', 'night.', 'no', 'novel', 'ocean.', 'of', 'offered', 'offers', 'office', 'old', 'on', 'orange', 'ordered', 'organized', 'other', 'out', 'outside.', 'ovations.', 'over', 'painting', 'panda', 'panels', 'park.', 'parrot', 'party.', 'passport', 'peacefully.', 'performed', 'phone', 'phrases.', 'pizza', 'play', 'played', 'playing', 'plays', 'plenty', 'poetry', 'possibilities.', 'power.', 'prefer', 'presentation.', 'prize.', 'professor', 'project’s', 'puppy.', 'quickly', 'quickly.', 'rabbit', 'rainbow', 'raining', 'ran', 'rebuilt.', 'received', 'recipe', 'recovered', 'report', 'requires', 'rescue', 'resolved', 'restaurants.', 'rises', 'river', 'road', 'robot', 'rocks.', 'running', 'salad', 'salty.', 'scientist', 'scratch.', 'seat', 'session', 'set', 'shared', 'she', 'ship', 'sincerely.', 'sleeping', 'smells', 'smile', 'snow', 'sofa.', 'software', 'solar', 'sold', 'solution.', 'someone’s', 'soup', 'spaceship', 'species.', 'spotless', 'squirrel', 'standing', 'stars', 'starts', 'store.', 'storm.', 'strawberries', 'submitted', 'success.', 'successfully.', 'suitcase', 'summer.', 'sun', 'supported', 'surgery.', 'sustainable', 'swam', 'takes', 'tangy', 'tasks.', 'tea', 'team', 'ten', 'tent', 'the', 'their', 'theory', 'they', 'this', 'through', 'tickets', 'time.', 'times.', 'to', 'too', 'took', 'tour', 'training', 'trees.', 'trip', 'trust.', 'turned', 'two', 'understaffed.', 'unexpectedly.', 'unstable.', 'up', 'up.', 'upbeat', 'update', 'very', 'veterinarian', 'vitamins', 'volunteering', 'was', 'wash', 'water.', 'waterfall.', 'waves', 'we', 'week.', 'weekend.', 'weekends.', 'weighed', 'were', 'wine.', 'won', 'writes', 'yard.', 'yoga', 'zoo']\n",
            "Document 1: [1, 16, 2, 1, 3, 1, 1, 1, 1, 1, 1, 1, 1, 1, 2, 1, 1, 1, 1, 3, 1, 1, 1, 1, 1, 1, 2, 1, 1, 1, 1, 1, 1, 1, 1, 1, 1, 1, 1, 1, 1, 1, 1, 1, 1, 1, 1, 1, 1, 1, 3, 1, 1, 1, 1, 1, 1, 1, 1, 1, 1, 1, 1, 1, 1, 1, 1, 1, 1, 1, 1, 1, 1, 1, 1, 1, 1, 1, 1, 1, 1, 1, 1, 1, 1, 1, 1, 1, 1, 1, 1, 1, 1, 1, 1, 1, 1, 1, 1, 1, 1, 1, 1, 1, 1, 1, 2, 1, 1, 1, 1, 1, 1, 1, 1, 1, 2, 1, 1, 1, 2, 1, 1, 1, 1, 1, 1, 1, 1, 1, 1, 1, 1, 3, 1, 1, 1, 1, 2, 1, 1, 1, 1, 1, 1, 1, 1, 1, 1, 1, 1, 2, 1, 1, 1, 6, 1, 1, 1, 1, 6, 1, 1, 3, 1, 1, 1, 1, 1, 1, 1, 3, 1, 1, 1, 7, 1, 1, 1, 1, 4, 1, 1, 1, 1, 1, 1, 1, 2, 1, 2, 1, 1, 1, 1, 1, 1, 1, 1, 1, 1, 1, 1, 1, 1, 1, 1, 1, 1, 2, 1, 1, 1, 1, 1, 2, 1, 1, 3, 1, 2, 1, 1, 1, 3, 1, 1, 1, 1, 4, 1, 1, 1, 1, 2, 1, 1, 1, 1, 1, 1, 1, 1, 1, 1, 2, 1, 1, 1, 1, 1, 1, 1, 1, 1, 1, 1, 1, 1, 1, 1, 1, 1, 1, 1, 1, 1, 1, 1, 1, 1, 1, 1, 1, 1, 1, 1, 1, 1, 1, 1, 1, 1, 1, 1, 1, 1, 1, 1, 1, 1, 1, 2, 9, 1, 1, 1, 1, 1, 1, 1, 1, 1, 1, 1, 1, 1, 1, 1, 1, 1, 1, 1, 1, 1, 1, 1, 1, 1, 1, 1, 1, 1, 1, 1, 1, 1, 2, 1, 1, 1, 1, 2, 1, 78, 1, 1, 8, 1, 1, 1, 2, 1, 6, 2, 1, 1, 1, 1, 1, 1, 1, 1, 1, 1, 1, 1, 1, 1, 1, 1, 1, 1, 1, 10, 1, 1, 1, 1, 1, 1, 1, 1, 1, 1, 1, 1, 1, 1, 1, 1]\n"
          ]
        }
      ]
    }
  ]
}